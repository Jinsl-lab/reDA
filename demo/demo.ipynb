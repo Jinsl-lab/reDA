{
 "cells": [
  {
   "cell_type": "markdown",
   "id": "61b9858f",
   "metadata": {},
   "source": [
    "**The following tutorial demonstrates how to use reDA for identifying cell states associated with phenotype in a scATAC-seq dataset. And we provide a simulated dataset for testing.**"
   ]
  },
  {
   "cell_type": "markdown",
   "id": "81da24ec",
   "metadata": {},
   "source": [
    "# Software requirements"
   ]
  },
  {
   "cell_type": "markdown",
   "id": "b0aaaade",
   "metadata": {},
   "source": [
    "Before using, we need to make sure that the following packages have been installed in the system"
   ]
  },
  {
   "cell_type": "markdown",
   "id": "d6af63a6",
   "metadata": {},
   "source": [
    "Python Dependencies"
   ]
  },
  {
   "cell_type": "code",
   "execution_count": null,
   "id": "dcfec98f",
   "metadata": {},
   "outputs": [],
   "source": [
    "numpy 1.26.2\n",
    "scipy 1.11.3\n",
    "pandas 1.3.5\n",
    "argparse 1.4.0\n",
    "scanpy 1.9.5\n",
    "packaging 23.2\n",
    "anndata 0.10.2\n",
    "rpy2 3.4.5\n",
    "multianndata 0.0.4"
   ]
  },
  {
   "cell_type": "markdown",
   "id": "f902920f",
   "metadata": {},
   "source": [
    "R Dependencies"
   ]
  },
  {
   "cell_type": "code",
   "execution_count": null,
   "id": "716f738b",
   "metadata": {},
   "outputs": [],
   "source": [
    "Signac 1.12.9001\n",
    "Seurat 5.0.1\n",
    "harmony 0.1.1\n",
    "readr 2.1.5\n",
    "GenomicRanges 1.50.2\n",
    "SeuratDisk 0.0.0.9020"
   ]
  },
  {
   "cell_type": "markdown",
   "id": "3d184d02",
   "metadata": {},
   "source": [
    "# How to install"
   ]
  },
  {
   "cell_type": "markdown",
   "id": "cb4da5fc",
   "metadata": {},
   "source": [
    "reDA is developed under Python (version >= 3.9) and R (version >= 4.2). To use reDA, you can clone this repository:"
   ]
  },
  {
   "cell_type": "code",
   "execution_count": null,
   "id": "f3c923ae",
   "metadata": {},
   "outputs": [],
   "source": [
    "git clone https://github.com/Jinsl-lab/reDA.git \n",
    "cd reDA"
   ]
  },
  {
   "cell_type": "markdown",
   "id": "50ed35e6",
   "metadata": {},
   "source": [
    "Then install the reDA package."
   ]
  },
  {
   "cell_type": "code",
   "execution_count": null,
   "id": "d001b33a",
   "metadata": {},
   "outputs": [],
   "source": [
    "pip install ."
   ]
  },
  {
   "cell_type": "markdown",
   "id": "cc357a9f",
   "metadata": {},
   "source": [
    "# Start in python"
   ]
  },
  {
   "cell_type": "code",
   "execution_count": null,
   "id": "b9d32f13",
   "metadata": {},
   "outputs": [],
   "source": [
    "import numpy as np\n",
    "import pandas as pd\n",
    "import scanpy as sc\n",
    "import reDA\n",
    "import anndata as ad\n",
    "from multianndata import MultiAnnData"
   ]
  },
  {
   "cell_type": "markdown",
   "id": "426de976",
   "metadata": {},
   "source": [
    "# 1. pre-processing"
   ]
  },
  {
   "cell_type": "markdown",
   "id": "e9630e7c",
   "metadata": {},
   "source": [
    "Firstly, we preprocess the scATAC-seq data in the .rds format and save it as the .h5ad format available for python."
   ]
  },
  {
   "cell_type": "code",
   "execution_count": null,
   "id": "c96c01fa",
   "metadata": {},
   "outputs": [],
   "source": [
    "reDA.pp.preprocess(rpath=\"/....../reDA/rpyprc.R\",  #The path of rpyprc.R\n",
    "                   inpath=\"/....../scATAC_data.rds\",  #Input scATAC-seq raw data\n",
    "                   hadpath=\"/....../output_data.h5Seurat\", #The save path of the output data\n",
    "                   group=\"dataset\", #Features used to remove batch effects\n",
    "                   assay=\"ATAC\",\n",
    "                   dimsta=2,dimend=30,  #The dimension used to calculate the cell similarity matrix in the dimension reduction matrix\n",
    "                   issave=\"Yes\", #Whether to save the preprocessed data in .rds format\n",
    "                   rdspath=\"/....../output_data.rds\") #The save path of the .rds data"
   ]
  },
  {
   "cell_type": "markdown",
   "id": "127dfdfa",
   "metadata": {},
   "source": [
    "# 2. read in data"
   ]
  },
  {
   "cell_type": "markdown",
   "id": "aa1f6155",
   "metadata": {},
   "source": [
    "Then, we create a MultiAnnData object from an AnnData object."
   ]
  },
  {
   "cell_type": "code",
   "execution_count": null,
   "id": "4befa257",
   "metadata": {},
   "outputs": [],
   "source": [
    "# read in AnnData object from h5ad file \n",
    "d = ad.read_h5ad('/....../output_data.h5ad')\n",
    "d.obs[\"id\"]=d.obs[\"id\"].astype('int')\n",
    "d = MultiAnnData(d, sampleid='id') \n",
    "d.obs_to_sample(['Diagnosis'])"
   ]
  },
  {
   "cell_type": "markdown",
   "id": "2851c6dc",
   "metadata": {},
   "source": [
    "# 3. perform association test "
   ]
  },
  {
   "cell_type": "code",
   "execution_count": null,
   "id": "c70f9e1a",
   "metadata": {},
   "outputs": [],
   "source": [
    "res = reDA.tl.association(d,  #dataset                 \n",
    "            d.samplem.Diagnosis,  #phenotypes of interest\n",
    "            re=0.3)   #restart probability                       \n",
    "            #covs=d.samplem[['gender']]) #covariates(optional)"
   ]
  },
  {
   "cell_type": "markdown",
   "id": "f9c731fb",
   "metadata": {},
   "source": [
    "1. **ncorrs** contains neighborhood coefficients.  \n",
    "2. **fdrs** contains neighborhood-level FDRs at other thresholds.\n"
   ]
  },
  {
   "cell_type": "code",
   "execution_count": null,
   "id": "41421e8f",
   "metadata": {},
   "outputs": [],
   "source": [
    "passed = res.fdrs[res.fdrs.fdr <= 0.05]\n",
    "thresh = passed.threshold.iloc[0]\n",
    "print(thresh)\n",
    "\n",
    "pre=np.repeat(\"NotDA\", len(d))\n",
    "pre[res.ncorrs > thresh]=\"PosLFC\"\n",
    "pre[res.ncorrs < -thresh]=\"NegLFC\"\n",
    "d.obs[\"pred\"]=pre\n",
    "\n"
   ]
  },
  {
   "cell_type": "code",
   "execution_count": null,
   "id": "327fe899",
   "metadata": {},
   "outputs": [],
   "source": [
    "#Show results\n",
    "import seaborn as sns\n",
    "colors=sns.color_palette('Set1')\n",
    "pal=colors[0:3]\n",
    "pal.insert(1, colors[-1])\n",
    "sc.pl.umap(d, color='pred', palette=pal)"
   ]
  },
  {
   "cell_type": "code",
   "execution_count": null,
   "id": "c53069d1",
   "metadata": {},
   "outputs": [],
   "source": []
  }
 ],
 "metadata": {
  "kernelspec": {
   "display_name": "python27",
   "language": "python",
   "name": "python27"
  },
  "language_info": {
   "codemirror_mode": {
    "name": "ipython",
    "version": 3
   },
   "file_extension": ".py",
   "mimetype": "text/x-python",
   "name": "python",
   "nbconvert_exporter": "python",
   "pygments_lexer": "ipython3",
   "version": "3.9.18"
  }
 },
 "nbformat": 4,
 "nbformat_minor": 5
}
